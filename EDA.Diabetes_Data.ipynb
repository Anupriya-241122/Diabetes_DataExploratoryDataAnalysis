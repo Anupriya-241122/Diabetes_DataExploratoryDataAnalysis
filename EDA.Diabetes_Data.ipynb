{
 "cells": [
  {
   "cell_type": "code",
   "execution_count": 9,
   "id": "6b3024c0-bfa4-49b5-a7c0-fe6411882cc6",
   "metadata": {},
   "outputs": [],
   "source": [
    "import pandas as pd\n",
    "import numpy as np"
   ]
  },
  {
   "cell_type": "code",
   "execution_count": null,
   "id": "791b2c8f-c36f-4c02-84a5-b03e818a4651",
   "metadata": {},
   "outputs": [],
   "source": [
    "#Q1 load in the diabetes data to start exploring.\n",
    "\n",
    "Load the data in a variable called diabetes_data and print the first few rows."
   ]
  },
  {
   "cell_type": "code",
   "execution_count": 10,
   "id": "f048fcab-2d9e-434f-8938-f9d806b2f4c2",
   "metadata": {},
   "outputs": [],
   "source": [
    "diabetes_data = pd.read_csv('diabetes.csv')\n"
   ]
  },
  {
   "cell_type": "code",
   "execution_count": 11,
   "id": "f25cf45a-f375-4576-84a2-43bb28dc9f04",
   "metadata": {},
   "outputs": [
    {
     "name": "stdout",
     "output_type": "stream",
     "text": [
      "   Pregnancies  Glucose  BloodPressure  SkinThickness  Insulin   BMI  \\\n",
      "0            6      148             72             35        0  33.6   \n",
      "1            1       85             66             29        0  26.6   \n",
      "2            8      183             64              0        0  23.3   \n",
      "3            1       89             66             23       94  28.1   \n",
      "4            0      137             40             35      168  43.1   \n",
      "\n",
      "   DiabetesPedigreeFunction  Age Outcome  \n",
      "0                     0.627   50       1  \n",
      "1                     0.351   31       0  \n",
      "2                     0.672   32       1  \n",
      "3                     0.167   21       0  \n",
      "4                     2.288   33       1  \n"
     ]
    }
   ],
   "source": [
    "print(diabetes_data.head())"
   ]
  },
  {
   "cell_type": "code",
   "execution_count": null,
   "id": "a4acb5f0-a50e-4052-8e6b-edd507ad56fa",
   "metadata": {},
   "outputs": [],
   "source": [
    "#Q2 How many columns (features) does the data contain? Alternatively (.shape) can be used to get same result as (rows, columns)"
   ]
  },
  {
   "cell_type": "code",
   "execution_count": 12,
   "id": "c3db2b3e-cceb-4a9d-9d62-67e91106f81d",
   "metadata": {},
   "outputs": [
    {
     "name": "stdout",
     "output_type": "stream",
     "text": [
      "9\n"
     ]
    }
   ],
   "source": [
    "print(len(diabetes_data.columns))"
   ]
  },
  {
   "cell_type": "code",
   "execution_count": null,
   "id": "a39b2b15-b9f5-4ff3-be43-427da29640b3",
   "metadata": {},
   "outputs": [],
   "source": [
    "#Q3 How many rows (observations) does the data contain?"
   ]
  },
  {
   "cell_type": "code",
   "execution_count": 14,
   "id": "a40f7002-02cd-412b-a012-93348ba95118",
   "metadata": {},
   "outputs": [
    {
     "name": "stdout",
     "output_type": "stream",
     "text": [
      "768\n"
     ]
    }
   ],
   "source": [
    "print(len(diabetes_data))"
   ]
  },
  {
   "cell_type": "code",
   "execution_count": null,
   "id": "f53796a7-4867-488b-9264-ecbfded89193",
   "metadata": {},
   "outputs": [],
   "source": [
    "#Q4 Let’s inspect diabetes_data further.\n",
    "Do any of the columns in the data contain null (missing) values? Alternate Solution : print(diabetes_data.info()) refer cell 16."
   ]
  },
  {
   "cell_type": "code",
   "execution_count": 15,
   "id": "4fb51136-da03-43c4-860e-109e837e03d7",
   "metadata": {},
   "outputs": [
    {
     "name": "stdout",
     "output_type": "stream",
     "text": [
      "Pregnancies                 0\n",
      "Glucose                     0\n",
      "BloodPressure               0\n",
      "SkinThickness               0\n",
      "Insulin                     0\n",
      "BMI                         0\n",
      "DiabetesPedigreeFunction    0\n",
      "Age                         0\n",
      "Outcome                     0\n",
      "dtype: int64\n"
     ]
    }
   ],
   "source": [
    "print(diabetes_data.isnull().sum())"
   ]
  },
  {
   "cell_type": "code",
   "execution_count": 16,
   "id": "d1a2e907-7af0-4f77-b29f-d02ffbf19a5d",
   "metadata": {},
   "outputs": [
    {
     "name": "stdout",
     "output_type": "stream",
     "text": [
      "<class 'pandas.core.frame.DataFrame'>\n",
      "RangeIndex: 768 entries, 0 to 767\n",
      "Data columns (total 9 columns):\n",
      " #   Column                    Non-Null Count  Dtype  \n",
      "---  ------                    --------------  -----  \n",
      " 0   Pregnancies               768 non-null    int64  \n",
      " 1   Glucose                   768 non-null    int64  \n",
      " 2   BloodPressure             768 non-null    int64  \n",
      " 3   SkinThickness             768 non-null    int64  \n",
      " 4   Insulin                   768 non-null    int64  \n",
      " 5   BMI                       768 non-null    float64\n",
      " 6   DiabetesPedigreeFunction  768 non-null    float64\n",
      " 7   Age                       768 non-null    int64  \n",
      " 8   Outcome                   768 non-null    object \n",
      "dtypes: float64(2), int64(6), object(1)\n",
      "memory usage: 54.1+ KB\n",
      "None\n"
     ]
    }
   ],
   "source": [
    "print(diabetes_data.info())"
   ]
  },
  {
   "cell_type": "code",
   "execution_count": null,
   "id": "73d3e31e-28d5-403d-9315-bb77d1afa49d",
   "metadata": {},
   "outputs": [],
   "source": [
    "#Q5 If you answered no to the question above, not so fast!While it’s technically true that none of the columns contain null values, that doesn’t necessarily mean that the data isn’t missing any values.\n",
    "When exploring data, you should always question your assumptions and try to dig deeper.\n",
    "To investigate further, calculate summary statistics on diabetes_data using the .describe() method."
   ]
  },
  {
   "cell_type": "code",
   "execution_count": 17,
   "id": "a96e37bf-1726-4694-bc5e-3256d9d3f656",
   "metadata": {},
   "outputs": [
    {
     "name": "stdout",
     "output_type": "stream",
     "text": [
      "       Pregnancies     Glucose  BloodPressure  SkinThickness     Insulin  \\\n",
      "count   768.000000  768.000000     768.000000     768.000000  768.000000   \n",
      "mean      3.845052  120.894531      69.105469      20.536458   79.799479   \n",
      "std       3.369578   31.972618      19.355807      15.952218  115.244002   \n",
      "min       0.000000    0.000000       0.000000       0.000000    0.000000   \n",
      "25%       1.000000   99.000000      62.000000       0.000000    0.000000   \n",
      "50%       3.000000  117.000000      72.000000      23.000000   30.500000   \n",
      "75%       6.000000  140.250000      80.000000      32.000000  127.250000   \n",
      "max      17.000000  199.000000     122.000000      99.000000  846.000000   \n",
      "\n",
      "              BMI  DiabetesPedigreeFunction         Age  \n",
      "count  768.000000                768.000000  768.000000  \n",
      "mean    31.992578                  0.471876   33.240885  \n",
      "std      7.884160                  0.331329   11.760232  \n",
      "min      0.000000                  0.078000   21.000000  \n",
      "25%     27.300000                  0.243750   24.000000  \n",
      "50%     32.000000                  0.372500   29.000000  \n",
      "75%     36.600000                  0.626250   41.000000  \n",
      "max     67.100000                  2.420000   81.000000  \n"
     ]
    }
   ],
   "source": [
    "print(diabetes_data.describe())"
   ]
  },
  {
   "cell_type": "code",
   "execution_count": null,
   "id": "a655b6f6-acc0-4f15-9b6b-0a670d3f16dd",
   "metadata": {},
   "outputs": [],
   "source": [
    "#Q6 Looking at the summary statistics, do you notice anything odd about the following columns?\n",
    "Glucose, BloodPressure, SkinThickness, Insulin, BMI"
   ]
  },
  {
   "cell_type": "code",
   "execution_count": null,
   "id": "2571595c-7a97-4226-930c-99a5957b694f",
   "metadata": {},
   "outputs": [],
   "source": [
    "Ans-6 If you take a look at the minimum values for these five columns, you’ll notice that they are all 0.\n",
    "How can Blood Pressure or BMI be 0? That makes no sense! These values also seem to be way off from their respective medians and means,\n",
    "another indicator that something is off.One way to interpret this is that these are missing values in the data."
   ]
  },
  {
   "cell_type": "code",
   "execution_count": null,
   "id": "cf206556-3588-4b8d-9d2a-df9320a9936d",
   "metadata": {},
   "outputs": [],
   "source": [
    "#Q7 Do you spot any other outliers in the data?"
   ]
  },
  {
   "cell_type": "code",
   "execution_count": null,
   "id": "3fe8e4db-7980-4b54-a7ec-f441748be454",
   "metadata": {},
   "outputs": [],
   "source": [
    "Ans-7 The maximum value of the Insulin column is 846, which is abnormally high.\n",
    "The maximum value of the Pregnancies column is 17. While having 17 pregnancies is not impossible, \n",
    "this case might be something to look further into to determine its accuracy."
   ]
  },
  {
   "cell_type": "code",
   "execution_count": null,
   "id": "5ad5f488-877b-483d-ac67-b3e71bdcab0f",
   "metadata": {},
   "outputs": [],
   "source": [
    "#Q8 Replacing 0 from nan to get more accurate view of misisng values."
   ]
  },
  {
   "cell_type": "code",
   "execution_count": 22,
   "id": "08ce47ea-28f6-4f61-8318-cc66ba20362b",
   "metadata": {},
   "outputs": [],
   "source": [
    "diabetes_data[['Glucose','BloodPressure','SkinThickness','Insulin','BMI']] = diabetes_data[['Glucose','BloodPressure','SkinThickness','Insulin','BMI']].replace(0,np.nan)\n"
   ]
  },
  {
   "cell_type": "code",
   "execution_count": null,
   "id": "b8a2d08d-f906-4a80-821a-2b1c27be1b93",
   "metadata": {},
   "outputs": [],
   "source": [
    "#Q9 check for missing (null) values in all of the columns just like you did in Step 5.\n",
    "Now how many missing values are there?"
   ]
  },
  {
   "cell_type": "code",
   "execution_count": 23,
   "id": "d54e295b-8057-4a26-9923-d7570907ca6a",
   "metadata": {},
   "outputs": [
    {
     "name": "stdout",
     "output_type": "stream",
     "text": [
      "Pregnancies                   0\n",
      "Glucose                       5\n",
      "BloodPressure                35\n",
      "SkinThickness               227\n",
      "Insulin                     374\n",
      "BMI                          11\n",
      "DiabetesPedigreeFunction      0\n",
      "Age                           0\n",
      "Outcome                       0\n",
      "dtype: int64\n"
     ]
    }
   ],
   "source": [
    "print(diabetes_data.isnull().sum())"
   ]
  },
  {
   "cell_type": "code",
   "execution_count": null,
   "id": "4ac8fbdc-622d-452a-9d1b-72536cb29679",
   "metadata": {},
   "outputs": [],
   "source": [
    "# Explaination Cell 23:As from the output, some values in the data do seem to be missing, even though an initial look at the data told us something different.\n",
    "For example, the SkinThickness column has 227 instances of 0 out of 768 rows, meaning that nearly 30% of the values in this column might be missing.\n",
    "Note: you might choose to deal with these values differently in your analysis, but the important point here is that EDA allows you to dig deeper into the data and help inform you which parts need cleaning."
   ]
  },
  {
   "cell_type": "code",
   "execution_count": null,
   "id": "b4b27f62-2260-43d1-9696-d58c78745bd9",
   "metadata": {},
   "outputs": [],
   "source": [
    "#Q10 Let’s take a closer look at these rows to get a better idea of why some data might be missing.\n",
    "Print out all of the rows that contain missing (null) values."
   ]
  },
  {
   "cell_type": "code",
   "execution_count": 24,
   "id": "c7085b43-59f1-4a0c-b31b-df12827715d8",
   "metadata": {},
   "outputs": [
    {
     "name": "stdout",
     "output_type": "stream",
     "text": [
      "     Pregnancies  Glucose  BloodPressure  SkinThickness  Insulin   BMI  \\\n",
      "0              6    148.0           72.0           35.0      NaN  33.6   \n",
      "1              1     85.0           66.0           29.0      NaN  26.6   \n",
      "2              8    183.0           64.0            NaN      NaN  23.3   \n",
      "5              5    116.0           74.0            NaN      NaN  25.6   \n",
      "7             10    115.0            NaN            NaN      NaN  35.3   \n",
      "..           ...      ...            ...            ...      ...   ...   \n",
      "761            9    170.0           74.0           31.0      NaN  44.0   \n",
      "762            9     89.0           62.0            NaN      NaN  22.5   \n",
      "764            2    122.0           70.0           27.0      NaN  36.8   \n",
      "766            1    126.0           60.0            NaN      NaN  30.1   \n",
      "767            1     93.0           70.0           31.0      NaN  30.4   \n",
      "\n",
      "     DiabetesPedigreeFunction  Age Outcome  \n",
      "0                       0.627   50       1  \n",
      "1                       0.351   31       0  \n",
      "2                       0.672   32       1  \n",
      "5                       0.201   30       0  \n",
      "7                       0.134   29       0  \n",
      "..                        ...  ...     ...  \n",
      "761                     0.403   43       1  \n",
      "762                     0.142   33       0  \n",
      "764                     0.340   27       0  \n",
      "766                     0.349   47       1  \n",
      "767                     0.315   23       0  \n",
      "\n",
      "[376 rows x 9 columns]\n"
     ]
    }
   ],
   "source": [
    "print(diabetes_data[diabetes_data.isnull().any(axis=1)])"
   ]
  },
  {
   "cell_type": "code",
   "execution_count": null,
   "id": "32ca99bc-b7b9-4533-b931-f613920b5587",
   "metadata": {},
   "outputs": [],
   "source": [
    "#Q11 Go through the rows with missing data. Do you notice any patterns or overlaps between the missing data?"
   ]
  },
  {
   "cell_type": "code",
   "execution_count": null,
   "id": "0cab9e66-4cef-423e-be74-4b3092ae2905",
   "metadata": {},
   "outputs": [],
   "source": [
    "#Ans 11 Explaination: One thing you might notice is that most rows with missing data have missing values in more than one column. \n",
    "In fact, every single row with at least one missing value also has a missing value in the insulin column. This is a clue as to why this data is missing! \n",
    "If patients did not have their insulin measured, why might they also not have had these other measurements taken?\n",
    "Depending on how much data is missing, you might choose to remove specific rows or impute the missing values somehow."
   ]
  },
  {
   "cell_type": "code",
   "execution_count": null,
   "id": "4e6c01f6-bfd3-49c5-929f-7c1d508137e5",
   "metadata": {},
   "outputs": [],
   "source": [
    "#Q12 Next, take a closer look at the data types of each column in diabetes_data.\n",
    "Does the result match what you would expect?"
   ]
  },
  {
   "cell_type": "code",
   "execution_count": 25,
   "id": "87f587cf-994f-4100-85f7-43bede8cb617",
   "metadata": {},
   "outputs": [
    {
     "name": "stdout",
     "output_type": "stream",
     "text": [
      "Pregnancies                   int64\n",
      "Glucose                     float64\n",
      "BloodPressure               float64\n",
      "SkinThickness               float64\n",
      "Insulin                     float64\n",
      "BMI                         float64\n",
      "DiabetesPedigreeFunction    float64\n",
      "Age                           int64\n",
      "Outcome                      object\n",
      "dtype: object\n"
     ]
    }
   ],
   "source": [
    "print(diabetes_data.dtypes)"
   ]
  },
  {
   "cell_type": "code",
   "execution_count": null,
   "id": "fa9473e8-a341-4c70-ad48-a1e33d7ae5e1",
   "metadata": {},
   "outputs": [],
   "source": [
    "#Q13 To figure out why the Outcome column is of type object (string) instead of type int64, print out the unique values in the Outcome column."
   ]
  },
  {
   "cell_type": "code",
   "execution_count": 26,
   "id": "9a89b2a7-c75b-4c85-ba82-39804ef88b21",
   "metadata": {},
   "outputs": [
    {
     "name": "stdout",
     "output_type": "stream",
     "text": [
      "['1' '0' 'O']\n"
     ]
    }
   ],
   "source": [
    "print(diabetes_data.Outcome.unique())"
   ]
  },
  {
   "cell_type": "code",
   "execution_count": null,
   "id": "192af0aa-12f6-41a9-a3f1-791a17c20d21",
   "metadata": {},
   "outputs": [],
   "source": [
    "#Ans 13 The documentation tells us that the value of the Outcome column should either be a 0 or a 1, so it seems likely that instances of the character 'O' are misentries."
   ]
  }
 ],
 "metadata": {
  "kernelspec": {
   "display_name": "anaconda-2022.05-py39",
   "language": "python",
   "name": "conda-env-anaconda-2022.05-py39-py"
  },
  "language_info": {
   "codemirror_mode": {
    "name": "ipython",
    "version": 3
   },
   "file_extension": ".py",
   "mimetype": "text/x-python",
   "name": "python",
   "nbconvert_exporter": "python",
   "pygments_lexer": "ipython3",
   "version": "3.9.12"
  }
 },
 "nbformat": 4,
 "nbformat_minor": 5
}
